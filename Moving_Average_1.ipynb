{
  "nbformat": 4,
  "nbformat_minor": 0,
  "metadata": {
    "colab": {
      "provenance": [],
      "authorship_tag": "ABX9TyPBYA68j7FipTXKBUVDytG1",
      "include_colab_link": true
    },
    "kernelspec": {
      "name": "python3",
      "display_name": "Python 3"
    },
    "language_info": {
      "name": "python"
    }
  },
  "cells": [
    {
      "cell_type": "markdown",
      "metadata": {
        "id": "view-in-github",
        "colab_type": "text"
      },
      "source": [
        "<a href=\"https://colab.research.google.com/github/Sriyansh-36-AI-NITJ/Machine-Learning-for-Time-Series-Forecasting/blob/main/Moving_Average_1.ipynb\" target=\"_parent\"><img src=\"https://colab.research.google.com/assets/colab-badge.svg\" alt=\"Open In Colab\"/></a>"
      ]
    },
    {
      "cell_type": "code",
      "execution_count": null,
      "metadata": {
        "colab": {
          "base_uri": "https://localhost:8080/"
        },
        "id": "ODP3X0Gtmoeq",
        "outputId": "7d3248a2-e349-4269-ff09-5026e2e16ccf"
      },
      "outputs": [
        {
          "output_type": "stream",
          "name": "stdout",
          "text": [
            "[ 9.5   9.75 10.25 10.5 ]\n"
          ]
        }
      ],
      "source": [
        "import numpy as np\n",
        "\n",
        "def moving_average_1(data):\n",
        "    kernel = np.ones(2) / 2\n",
        "    return np.convolve(data, kernel, mode='valid')\n",
        "\n",
        "#Given Example in class:\n",
        "J = [10, 9, 10.5, 10, 11]\n",
        "ma1 = moving_average_1(J)\n",
        "print(ma1)"
      ]
    }
  ]
}
{
  "nbformat": 4,
  "nbformat_minor": 0,
  "metadata": {
    "colab": {
      "provenance": [],
      "authorship_tag": "ABX9TyM1KW/BwE/RTqrRz/BAgZC8",
      "include_colab_link": true
    },
    "kernelspec": {
      "name": "python3",
      "display_name": "Python 3"
    },
    "language_info": {
      "name": "python"
    }
  },
  "cells": [
    {
      "cell_type": "markdown",
      "metadata": {
        "id": "view-in-github",
        "colab_type": "text"
      },
      "source": [
        "<a href=\"https://colab.research.google.com/github/Sriyansh-36-AI-NITJ/Machine-Learning-for-Time-Series-Forecasting/blob/main/Moving_Average_2.ipynb\" target=\"_parent\"><img src=\"https://colab.research.google.com/assets/colab-badge.svg\" alt=\"Open In Colab\"/></a>"
      ]
    },
    {
      "cell_type": "code",
      "execution_count": null,
      "metadata": {
        "id": "_fYwZwULm6yV",
        "outputId": "040b3ac6-3283-4778-9613-7c7d18137ca0",
        "colab": {
          "base_uri": "https://localhost:8080/"
        }
      },
      "outputs": [
        {
          "output_type": "stream",
          "name": "stdout",
          "text": [
            "[ 9.83333333  9.83333333 10.5       ]\n"
          ]
        }
      ],
      "source": [
        "import numpy as np\n",
        "\n",
        "def moving_average_2(data):\n",
        "    kernel = np.ones(3) / 3\n",
        "    return np.convolve(data, kernel, mode='valid')\n",
        "\n",
        "# Given Example in class:\n",
        "J = [10, 9, 10.5, 10, 11]\n",
        "ma2 = moving_average_2(J)\n",
        "print(ma2)"
      ]
    }
  ]
}